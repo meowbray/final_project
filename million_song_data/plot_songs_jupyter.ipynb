{
 "cells": [
  {
   "cell_type": "code",
   "execution_count": 2,
   "metadata": {},
   "outputs": [],
   "source": [
    "import pandas as pd\n",
    "import numpy as np\n",
    "from matplotlib import pyplot as plt\n",
    "import pylab"
   ]
  },
  {
   "cell_type": "code",
   "execution_count": 3,
   "metadata": {},
   "outputs": [],
   "source": [
    "songs = pd.read_csv('../ip-seminarski/MillionSongsSubset.csv', encoding = \"ISO-8859-1\")"
   ]
  },
  {
   "cell_type": "code",
   "execution_count": 4,
   "metadata": {},
   "outputs": [
    {
     "data": {
      "text/plain": [
       "(10000, 33)"
      ]
     },
     "execution_count": 4,
     "metadata": {},
     "output_type": "execute_result"
    }
   ],
   "source": [
    "songs.shape"
   ]
  },
  {
   "cell_type": "code",
   "execution_count": 5,
   "metadata": {},
   "outputs": [],
   "source": [
    "number_of_columns = songs.shape[1]"
   ]
  },
  {
   "cell_type": "code",
   "execution_count": 6,
   "metadata": {},
   "outputs": [
    {
     "data": {
      "text/plain": [
       "Index(['SongNumber', 'SongID', 'AlbumID', 'AlbumName', 'ArtistID',\n",
       "       'ArtistLatitude', 'ArtistLocation', 'ArtistLongitude', 'ArtistName',\n",
       "       'Danceability', 'Duration', 'KeySignature', 'KeySignatureConfidence',\n",
       "       'Loudness', 'Tempo', 'TimeSignature', 'TimeSignatureConfidence',\n",
       "       'Title', 'Year', 'ArtistFamiliarity', 'ArtistHotttnesss', 'AudioMd5',\n",
       "       'EndOfFadeIn', 'Energy', 'Key', 'KeyConfidence', 'Mode',\n",
       "       'ModeConfidence', 'Release', 'SongHotttness', 'StartOfFadeOut', 'Genre',\n",
       "       'TrackId'],\n",
       "      dtype='object')"
      ]
     },
     "execution_count": 6,
     "metadata": {},
     "output_type": "execute_result"
    }
   ],
   "source": [
    "songs.keys()"
   ]
  },
  {
   "cell_type": "code",
   "execution_count": 7,
   "metadata": {},
   "outputs": [],
   "source": [
    "s = songs.to_dict()"
   ]
  },
  {
   "cell_type": "code",
   "execution_count": 8,
   "metadata": {},
   "outputs": [
    {
     "data": {
      "text/plain": [
       "42778"
      ]
     },
     "execution_count": 8,
     "metadata": {},
     "output_type": "execute_result"
    }
   ],
   "source": [
    "r = 0\n",
    "for key in s.keys():\n",
    "    for i in range (0, songs.shape[0]):\n",
    "        if pd.isnull(songs[key][i]):\n",
    "            r = r + 1\n",
    "            s[key][i] = None\n",
    "r"
   ]
  },
  {
   "cell_type": "code",
   "execution_count": null,
   "metadata": {},
   "outputs": [],
   "source": []
  },
  {
   "cell_type": "code",
   "execution_count": 9,
   "metadata": {},
   "outputs": [],
   "source": [
    "# Pastel1 tab20c tab20b tab20"
   ]
  },
  {
   "cell_type": "code",
   "execution_count": 10,
   "metadata": {},
   "outputs": [
    {
     "data": {
      "image/png": "[encoded data removed]",
      "text/plain": [
       "<matplotlib.figure.Figure at 0x7efbcde61ac8>"
      ]
     },
     "metadata": {},
     "output_type": "display_data"
    }
   ],
   "source": [
    "plt.xticks(range(0, number_of_columns), songs.columns, rotation='vertical')\n",
    "plt.imshow(songs.isnull(), cmap='tab20c', aspect='auto')\n",
    "plt.savefig(\"/home/m/Desktop/before_processing.png\", dpi=200,  bbox_inches='tight')"
   ]
  },
  {
   "cell_type": "code",
   "execution_count": null,
   "metadata": {},
   "outputs": [],
   "source": []
  },
  {
   "cell_type": "code",
   "execution_count": null,
   "metadata": {},
   "outputs": [],
   "source": []
  },
  {
   "cell_type": "code",
   "execution_count": null,
   "metadata": {},
   "outputs": [],
   "source": []
  },
  {
   "cell_type": "code",
   "execution_count": 11,
   "metadata": {},
   "outputs": [
    {
     "data": {
      "text/html": [
       "<div>\n",
       "<style scoped>\n",
       "    .dataframe tbody tr th:only-of-type {\n",
       "        vertical-align: middle;\n",
       "    }\n",
       "\n",
       "    .dataframe tbody tr th {\n",
       "        vertical-align: top;\n",
       "    }\n",
       "\n",
       "    .dataframe thead th {\n",
       "        text-align: right;\n",
       "    }\n",
       "</style>\n",
       "<table border=\"1\" class=\"dataframe\">\n",
       "  <thead>\n",
       "    <tr style=\"text-align: right;\">\n",
       "      <th></th>\n",
       "      <th>SongNumber</th>\n",
       "      <th>SongID</th>\n",
       "      <th>AlbumID</th>\n",
       "      <th>AlbumName</th>\n",
       "      <th>ArtistID</th>\n",
       "      <th>ArtistLatitude</th>\n",
       "      <th>ArtistLocation</th>\n",
       "      <th>ArtistLongitude</th>\n",
       "      <th>ArtistName</th>\n",
       "      <th>Danceability</th>\n",
       "      <th>...</th>\n",
       "      <th>Energy</th>\n",
       "      <th>Key</th>\n",
       "      <th>KeyConfidence</th>\n",
       "      <th>Mode</th>\n",
       "      <th>ModeConfidence</th>\n",
       "      <th>Release</th>\n",
       "      <th>SongHotttness</th>\n",
       "      <th>StartOfFadeOut</th>\n",
       "      <th>Genre</th>\n",
       "      <th>TrackId</th>\n",
       "    </tr>\n",
       "  </thead>\n",
       "  <tbody>\n",
       "    <tr>\n",
       "      <th>0</th>\n",
       "      <td>1</td>\n",
       "      <td>SOBQSLF12A8C139785</td>\n",
       "      <td>296721</td>\n",
       "      <td>The Heart Of Christmas</td>\n",
       "      <td>ARLNSD41187FB4D9A0</td>\n",
       "      <td>42.50382</td>\n",
       "      <td>Italy</td>\n",
       "      <td>12.57347</td>\n",
       "      <td>Sergio Franchi</td>\n",
       "      <td>NaN</td>\n",
       "      <td>...</td>\n",
       "      <td>0.0</td>\n",
       "      <td>8</td>\n",
       "      <td>0.217</td>\n",
       "      <td>1</td>\n",
       "      <td>0.241</td>\n",
       "      <td>The Heart Of Christmas</td>\n",
       "      <td>0.641771</td>\n",
       "      <td>165.581</td>\n",
       "      <td>NaN</td>\n",
       "      <td>TRAGGVT128F428F842</td>\n",
       "    </tr>\n",
       "    <tr>\n",
       "      <th>1</th>\n",
       "      <td>2</td>\n",
       "      <td>SOMDTTT12A8C13F1CB</td>\n",
       "      <td>303421</td>\n",
       "      <td>Soul Friends</td>\n",
       "      <td>ARISHTQ1187FB3E6F0</td>\n",
       "      <td>NaN</td>\n",
       "      <td>NaN</td>\n",
       "      <td>NaN</td>\n",
       "      <td>Ben E. King</td>\n",
       "      <td>NaN</td>\n",
       "      <td>...</td>\n",
       "      <td>0.0</td>\n",
       "      <td>10</td>\n",
       "      <td>0.608</td>\n",
       "      <td>1</td>\n",
       "      <td>0.596</td>\n",
       "      <td>Soul Friends</td>\n",
       "      <td>NaN</td>\n",
       "      <td>159.997</td>\n",
       "      <td>classic pop and rock</td>\n",
       "      <td>TRAGGSJ128F42A5AE1</td>\n",
       "    </tr>\n",
       "    <tr>\n",
       "      <th>2</th>\n",
       "      <td>3</td>\n",
       "      <td>SOGOJEP12AB018D355</td>\n",
       "      <td>675211</td>\n",
       "      <td>Ghetto Fabolous [Explicit Version]</td>\n",
       "      <td>AR3FE581187FB3F90A</td>\n",
       "      <td>NaN</td>\n",
       "      <td>Brooklyn NY</td>\n",
       "      <td>NaN</td>\n",
       "      <td>Fabolous</td>\n",
       "      <td>NaN</td>\n",
       "      <td>...</td>\n",
       "      <td>0.0</td>\n",
       "      <td>1</td>\n",
       "      <td>0.164</td>\n",
       "      <td>1</td>\n",
       "      <td>0.080</td>\n",
       "      <td>Ghetto Fabolous [Explicit Version]</td>\n",
       "      <td>NaN</td>\n",
       "      <td>212.869</td>\n",
       "      <td>hip hop rnb and dance hall</td>\n",
       "      <td>TRAGGKN12903CCA8EE</td>\n",
       "    </tr>\n",
       "    <tr>\n",
       "      <th>3</th>\n",
       "      <td>4</td>\n",
       "      <td>SOLAZFN12AB018A094</td>\n",
       "      <td>725669</td>\n",
       "      <td>Afro-Indio</td>\n",
       "      <td>AR1N6N61187FB4E25E</td>\n",
       "      <td>23.08330</td>\n",
       "      <td>Havana Cuba [Jesus Maria]</td>\n",
       "      <td>-82.41670</td>\n",
       "      <td>Mongo Santamaria</td>\n",
       "      <td>NaN</td>\n",
       "      <td>...</td>\n",
       "      <td>0.0</td>\n",
       "      <td>2</td>\n",
       "      <td>0.579</td>\n",
       "      <td>0</td>\n",
       "      <td>0.696</td>\n",
       "      <td>Afro-Indio</td>\n",
       "      <td>NaN</td>\n",
       "      <td>182.503</td>\n",
       "      <td>NaN</td>\n",
       "      <td>TRAGGXK12903CDA84B</td>\n",
       "    </tr>\n",
       "    <tr>\n",
       "      <th>4</th>\n",
       "      <td>5</td>\n",
       "      <td>SOJPZIX12AB018B2BD</td>\n",
       "      <td>769725</td>\n",
       "      <td>Riddim Of Silence</td>\n",
       "      <td>ARJJRZ41187FB4C856</td>\n",
       "      <td>NaN</td>\n",
       "      <td>NaN</td>\n",
       "      <td>NaN</td>\n",
       "      <td>Floor</td>\n",
       "      <td>NaN</td>\n",
       "      <td>...</td>\n",
       "      <td>0.0</td>\n",
       "      <td>0</td>\n",
       "      <td>0.045</td>\n",
       "      <td>1</td>\n",
       "      <td>0.298</td>\n",
       "      <td>Riddim Of Silence</td>\n",
       "      <td>0.266955</td>\n",
       "      <td>202.368</td>\n",
       "      <td>NaN</td>\n",
       "      <td>TRAGGMY12903CD9533</td>\n",
       "    </tr>\n",
       "  </tbody>\n",
       "</table>\n",
       "<p>5 rows × 33 columns</p>\n",
       "</div>"
      ],
      "text/plain": [
       "   SongNumber              SongID  AlbumID  \\\n",
       "0           1  SOBQSLF12A8C139785   296721   \n",
       "1           2  SOMDTTT12A8C13F1CB   303421   \n",
       "2           3  SOGOJEP12AB018D355   675211   \n",
       "3           4  SOLAZFN12AB018A094   725669   \n",
       "4           5  SOJPZIX12AB018B2BD   769725   \n",
       "\n",
       "                            AlbumName            ArtistID  ArtistLatitude  \\\n",
       "0              The Heart Of Christmas  ARLNSD41187FB4D9A0        42.50382   \n",
       "1                        Soul Friends  ARISHTQ1187FB3E6F0             NaN   \n",
       "2  Ghetto Fabolous [Explicit Version]  AR3FE581187FB3F90A             NaN   \n",
       "3                          Afro-Indio  AR1N6N61187FB4E25E        23.08330   \n",
       "4                   Riddim Of Silence  ARJJRZ41187FB4C856             NaN   \n",
       "\n",
       "              ArtistLocation  ArtistLongitude        ArtistName  Danceability  \\\n",
       "0                      Italy         12.57347    Sergio Franchi           NaN   \n",
       "1                        NaN              NaN       Ben E. King           NaN   \n",
       "2                Brooklyn NY              NaN          Fabolous           NaN   \n",
       "3  Havana Cuba [Jesus Maria]        -82.41670  Mongo Santamaria           NaN   \n",
       "4                        NaN              NaN             Floor           NaN   \n",
       "\n",
       "          ...          Energy  Key  KeyConfidence  Mode  ModeConfidence  \\\n",
       "0         ...             0.0    8          0.217     1           0.241   \n",
       "1         ...             0.0   10          0.608     1           0.596   \n",
       "2         ...             0.0    1          0.164     1           0.080   \n",
       "3         ...             0.0    2          0.579     0           0.696   \n",
       "4         ...             0.0    0          0.045     1           0.298   \n",
       "\n",
       "                              Release  SongHotttness StartOfFadeOut  \\\n",
       "0              The Heart Of Christmas       0.641771        165.581   \n",
       "1                        Soul Friends            NaN        159.997   \n",
       "2  Ghetto Fabolous [Explicit Version]            NaN        212.869   \n",
       "3                          Afro-Indio            NaN        182.503   \n",
       "4                   Riddim Of Silence       0.266955        202.368   \n",
       "\n",
       "                        Genre             TrackId  \n",
       "0                         NaN  TRAGGVT128F428F842  \n",
       "1        classic pop and rock  TRAGGSJ128F42A5AE1  \n",
       "2  hip hop rnb and dance hall  TRAGGKN12903CCA8EE  \n",
       "3                         NaN  TRAGGXK12903CDA84B  \n",
       "4                         NaN  TRAGGMY12903CD9533  \n",
       "\n",
       "[5 rows x 33 columns]"
      ]
     },
     "execution_count": 11,
     "metadata": {},
     "output_type": "execute_result"
    }
   ],
   "source": [
    "songs.head()"
   ]
  },
  {
   "cell_type": "code",
   "execution_count": 12,
   "metadata": {},
   "outputs": [
    {
     "data": {
      "text/plain": [
       "5320"
      ]
     },
     "execution_count": 12,
     "metadata": {},
     "output_type": "execute_result"
    }
   ],
   "source": [
    "np.sum(np.isnan(songs['Year']))"
   ]
  },
  {
   "cell_type": "code",
   "execution_count": 13,
   "metadata": {},
   "outputs": [
    {
     "data": {
      "text/plain": [
       "10000"
      ]
     },
     "execution_count": 13,
     "metadata": {},
     "output_type": "execute_result"
    }
   ],
   "source": [
    "da_0 = np.sum(np.isnan(songs['Danceability']))\n",
    "da_0"
   ]
  },
  {
   "cell_type": "code",
   "execution_count": 14,
   "metadata": {},
   "outputs": [
    {
     "data": {
      "text/plain": [
       "0"
      ]
     },
     "execution_count": 14,
     "metadata": {},
     "output_type": "execute_result"
    }
   ],
   "source": [
    "np.sum(pd.isnull(songs['Loudness']))"
   ]
  },
  {
   "cell_type": "code",
   "execution_count": null,
   "metadata": {},
   "outputs": [],
   "source": []
  },
  {
   "cell_type": "code",
   "execution_count": null,
   "metadata": {},
   "outputs": [],
   "source": []
  },
  {
   "cell_type": "code",
   "execution_count": 15,
   "metadata": {},
   "outputs": [],
   "source": [
    "# fill in the year of other songs with mean?? no"
   ]
  },
  {
   "cell_type": "code",
   "execution_count": 16,
   "metadata": {},
   "outputs": [],
   "source": [
    "songs = pd.read_csv('../ip-seminarski/MillionSongsSubsetProcessed.csv', encoding = \"ISO-8859-1\")"
   ]
  },
  {
   "cell_type": "code",
   "execution_count": 17,
   "metadata": {},
   "outputs": [
    {
     "data": {
      "image/png": "[encoded data removed]",
      "text/plain": [
       "<matplotlib.figure.Figure at 0x7efbccefa9e8>"
      ]
     },
     "metadata": {},
     "output_type": "display_data"
    }
   ],
   "source": [
    "\n",
    "number_of_columns_processed = songs.shape[1]\n",
    "plt.xticks(range(0, number_of_columns_processed), songs.columns, rotation='vertical')\n",
    "plt.imshow(songs.isnull(), cmap='tab20c', aspect='auto')\n",
    "plt.savefig(\"/home/m/Desktop/after_processing.png\", dpi=200,  bbox_inches='tight')"
   ]
  },
  {
   "cell_type": "code",
   "execution_count": 18,
   "metadata": {},
   "outputs": [
    {
     "data": {
      "text/plain": [
       "array(<generator object <genexpr> at 0x7efbccb08e08>, dtype=object)"
      ]
     },
     "execution_count": 18,
     "metadata": {},
     "output_type": "execute_result"
    }
   ],
   "source": [
    "ia = np.array((i for i in range(0, songs.shape[0])))\n",
    "ia"
   ]
  },
  {
   "cell_type": "code",
   "execution_count": 23,
   "metadata": {},
   "outputs": [
    {
     "data": {
      "image/png": "[encoded data removed]",
      "text/plain": [
       "<matplotlib.figure.Figure at 0x7efbc5a6da20>"
      ]
     },
     "metadata": {},
     "output_type": "display_data"
    }
   ],
   "source": [
    "plt.plot(songs['Tempo'])\n",
    "plt.ylabel('Tempo')\n",
    "plt.xlabel('Row number')\n",
    "plt.savefig(\"/home/m/Desktop/tempo.png\", dpi=200,  bbox_inches='tight')\n",
    "plt.show()"
   ]
  },
  {
   "cell_type": "code",
   "execution_count": null,
   "metadata": {},
   "outputs": [],
   "source": []
  },
  {
   "cell_type": "code",
   "execution_count": 21,
   "metadata": {},
   "outputs": [
    {
     "data": {
      "image/png": "[encoded data removed]",
      "text/plain": [
       "<matplotlib.figure.Figure at 0x7efbcd19db00>"
      ]
     },
     "metadata": {},
     "output_type": "display_data"
    }
   ],
   "source": [
    "plt.plot(songs['Loudness'])\n",
    "plt.ylabel('Loudness')\n",
    "plt.xlabel('Row number')\n",
    "plt.savefig(\"/home/m/Desktop/loudness.png\", dpi=200,  bbox_inches='tight')\n",
    "plt.show()"
   ]
  },
  {
   "cell_type": "code",
   "execution_count": 24,
   "metadata": {},
   "outputs": [
    {
     "data": {
      "image/png": "[encoded data removed]",
      "text/plain": [
       "<matplotlib.figure.Figure at 0x7efbc5a874a8>"
      ]
     },
     "metadata": {},
     "output_type": "display_data"
    }
   ],
   "source": [
    "plt.plot(songs['Duration'])\n",
    "plt.ylabel('Duration')\n",
    "plt.xlabel('Row number')\n",
    "plt.savefig(\"/home/m/Desktop/duration.png\", dpi=200,  bbox_inches='tight')\n",
    "plt.show()"
   ]
  },
  {
   "cell_type": "code",
   "execution_count": null,
   "metadata": {},
   "outputs": [],
   "source": []
  },
  {
   "cell_type": "code",
   "execution_count": null,
   "metadata": {},
   "outputs": [],
   "source": []
  },
  {
   "cell_type": "code",
   "execution_count": null,
   "metadata": {},
   "outputs": [],
   "source": []
  },
  {
   "cell_type": "code",
   "execution_count": null,
   "metadata": {},
   "outputs": [],
   "source": []
  },
  {
   "cell_type": "code",
   "execution_count": null,
   "metadata": {},
   "outputs": [],
   "source": []
  }
 ],
 "metadata": {
  "kernelspec": {
   "display_name": "Python 3",
   "language": "python",
   "name": "python3"
  },
  "language_info": {
   "codemirror_mode": {
    "name": "ipython",
    "version": 3
   },
   "file_extension": ".py",
   "mimetype": "text/x-python",
   "name": "python",
   "nbconvert_exporter": "python",
   "pygments_lexer": "ipython3",
   "version": "3.6.4"
  }
 },
 "nbformat": 4,
 "nbformat_minor": 2
}
